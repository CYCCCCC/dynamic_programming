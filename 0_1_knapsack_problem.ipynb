{
 "cells": [
  {
   "cell_type": "markdown",
   "metadata": {},
   "source": [
    "You are given weights and values of N items, put these items in a knapsack of capacity W to get the maximum total value in the knapsack. Note that we have only one quantity of each item.\n",
    "In other words, given two integer arrays val[0..N-1] and wt[0..N-1] which represent values and weights associated with N items respectively. Also given an integer W which represents knapsack capacity, find out the maximum value subset of val[] such that sum of the weights of this subset is smaller than or equal to W. You cannot break an item, either pick the complete item or dont pick it (0-1 property)."
   ]
  },
  {
   "cell_type": "code",
   "execution_count": 48,
   "metadata": {},
   "outputs": [],
   "source": [
    "def knapSack(w, wt, val, n):\n",
    "    # create a n+1 * w+1 matrix with n = the number of items and w = the weight capacity\n",
    "    dp = [[0]*(w+1) for i in range(n+1)] \n",
    "\n",
    "    for i in range(n + 1):\n",
    "        for j in range(w + 1):\n",
    "            \n",
    "            # without selecting any item or capacity = 0\n",
    "            if j == 0 or i == 0:  \n",
    "                dp[i][j] = 0\n",
    "\n",
    "            # comparing the value of items added into the bag\n",
    "            elif wt[i - 1] <= j:\n",
    "                dp[i][j] = max(val[i - 1] + dp[i - 1][j - wt[i - 1]], dp[i - 1][j])\n",
    "            \n",
    "            # the weight of the item exceeds the capacity\n",
    "            else:   \n",
    "                dp[i][j] = dp[i - 1][j]  # nothing added into the bag, the total value would equal to the previous situation\n",
    "\n",
    "    return dp[-1][-1]"
   ]
  },
  {
   "cell_type": "code",
   "execution_count": 49,
   "metadata": {},
   "outputs": [
    {
     "data": {
      "text/plain": [
       "3"
      ]
     },
     "execution_count": 49,
     "metadata": {},
     "output_type": "execute_result"
    }
   ],
   "source": [
    "n = 3\n",
    "w = 4\n",
    "val = [1,2,3]\n",
    "wt = [4,5,1]\n",
    "\n",
    "knapSack(w, wt, val, n)"
   ]
  },
  {
   "cell_type": "code",
   "execution_count": 50,
   "metadata": {},
   "outputs": [
    {
     "data": {
      "text/plain": [
       "0"
      ]
     },
     "execution_count": 50,
     "metadata": {},
     "output_type": "execute_result"
    }
   ],
   "source": [
    "n = 3\n",
    "w = 3\n",
    "val = [1,2,3]\n",
    "wt = [4,5,6]\n",
    "\n",
    "knapSack(w, wt, val, n)"
   ]
  },
  {
   "cell_type": "code",
   "execution_count": null,
   "metadata": {},
   "outputs": [],
   "source": []
  }
 ],
 "metadata": {
  "kernelspec": {
   "display_name": "Python 3",
   "language": "python",
   "name": "python3"
  },
  "language_info": {
   "codemirror_mode": {
    "name": "ipython",
    "version": 3
   },
   "file_extension": ".py",
   "mimetype": "text/x-python",
   "name": "python",
   "nbconvert_exporter": "python",
   "pygments_lexer": "ipython3",
   "version": "3.7.7"
  }
 },
 "nbformat": 4,
 "nbformat_minor": 2
}
