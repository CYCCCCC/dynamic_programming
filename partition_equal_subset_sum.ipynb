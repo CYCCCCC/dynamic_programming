{
 "cells": [
  {
   "cell_type": "markdown",
   "metadata": {},
   "source": [
    "Given an integer array nums, return true if you can partition the array into two subsets such that the sum of the elements in both subsets is equal or false otherwise."
   ]
  },
  {
   "cell_type": "code",
   "execution_count": 41,
   "metadata": {},
   "outputs": [],
   "source": [
    "def canPartition(nums):\n",
    "    \n",
    "    if sum(nums) % 2 > 0:\n",
    "        print('False')\n",
    "        \n",
    "    else:\n",
    "        half_sum = int(sum(nums)/2)\n",
    "\n",
    "        dp = [[0] * (half_sum + 1) for i in range(len(nums) + 1)]\n",
    "\n",
    "        for i in range(len(nums) + 1):\n",
    "            dp[i][0] = 1\n",
    "\n",
    "        for i in range(1, len(nums) + 1):\n",
    "            for j in range(1, half_sum + 1):\n",
    "                if nums[i-1] > j:\n",
    "                    dp[i][j] = dp[i-1][j]\n",
    "                else:\n",
    "                    if dp[i-1][j]:\n",
    "                        dp[i][j] = dp[i-1][j]\n",
    "                    else:\n",
    "                        dp[i][j] = dp[i-1][j-nums[i-1]]\n",
    "\n",
    "        if dp[i][j]:\n",
    "            print('Ture')\n",
    "        else:\n",
    "            print('False')\n",
    "\n",
    "\n",
    "        subset1 = []\n",
    "        while i > 0 or j > 0:\n",
    "            if dp[i][j] == dp[i-1][j]:\n",
    "                i -= 1\n",
    "            else:\n",
    "                subset1.append(nums[i-1])\n",
    "                j = j-nums[i-1]\n",
    "                i -= 1\n",
    "        subset2 = [i for i in nums if i not in subset1]\n",
    "        \n",
    "        print('The 1st subset is {}'.format(subset1))\n",
    "        print('The 2nd subset is {}'.format(subset2))"
   ]
  },
  {
   "cell_type": "code",
   "execution_count": 42,
   "metadata": {},
   "outputs": [
    {
     "name": "stdout",
     "output_type": "stream",
     "text": [
      "Ture\n",
      "The 1st subset is [11]\n",
      "The 2nd subset is [1, 5, 5]\n"
     ]
    }
   ],
   "source": [
    "nums = [1,5,11,5]\n",
    "\n",
    "canPartition(nums)"
   ]
  },
  {
   "cell_type": "code",
   "execution_count": 43,
   "metadata": {},
   "outputs": [
    {
     "name": "stdout",
     "output_type": "stream",
     "text": [
      "False\n"
     ]
    }
   ],
   "source": [
    "nums = [1,2,3,5]\n",
    "\n",
    "canPartition(nums)"
   ]
  },
  {
   "cell_type": "code",
   "execution_count": null,
   "metadata": {},
   "outputs": [],
   "source": []
  }
 ],
 "metadata": {
  "kernelspec": {
   "display_name": "Python 3",
   "language": "python",
   "name": "python3"
  },
  "language_info": {
   "codemirror_mode": {
    "name": "ipython",
    "version": 3
   },
   "file_extension": ".py",
   "mimetype": "text/x-python",
   "name": "python",
   "nbconvert_exporter": "python",
   "pygments_lexer": "ipython3",
   "version": "3.7.7"
  }
 },
 "nbformat": 4,
 "nbformat_minor": 2
}
