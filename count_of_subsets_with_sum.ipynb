{
 "cells": [
  {
   "cell_type": "markdown",
   "metadata": {},
   "source": [
    "Given an array arr[] of length N and an integer X, the task is to find the number of subsets with a sum equal to X.\n",
    "- https://www.youtube.com/watch?v=MqYLmIzl8sQ"
   ]
  },
  {
   "cell_type": "code",
   "execution_count": 31,
   "metadata": {},
   "outputs": [],
   "source": [
    "def count_subset(nums, num_sum):\n",
    "    dp = [[0] * (num_sum + 1) for i in range(len(nums) + 1)]\n",
    "\n",
    "    for i in range(len(nums) + 1):\n",
    "        dp[i][0] = 1\n",
    "\n",
    "    for i in range(1, len(nums) + 1):\n",
    "        for j in range(1, num_sum + 1):\n",
    "            if nums[i-1] > j:\n",
    "                dp[i][j] = dp[i-1][j]\n",
    "            else:\n",
    "                dp[i][j] = dp[i-1][j] + dp[i-1][j-nums[i-1]]  # either include or not\n",
    "\n",
    "    print('There are {} subsets'.format(dp[i][j]))"
   ]
  },
  {
   "cell_type": "code",
   "execution_count": 32,
   "metadata": {},
   "outputs": [
    {
     "name": "stdout",
     "output_type": "stream",
     "text": [
      "There are 3 subsets\n"
     ]
    }
   ],
   "source": [
    "nums = [2, 3, 5, 6, 8, 10]\n",
    "num_sum = 10\n",
    "\n",
    "count_subset(nums, num_sum)"
   ]
  },
  {
   "cell_type": "code",
   "execution_count": null,
   "metadata": {},
   "outputs": [],
   "source": []
  }
 ],
 "metadata": {
  "kernelspec": {
   "display_name": "Python 3",
   "language": "python",
   "name": "python3"
  },
  "language_info": {
   "codemirror_mode": {
    "name": "ipython",
    "version": 3
   },
   "file_extension": ".py",
   "mimetype": "text/x-python",
   "name": "python",
   "nbconvert_exporter": "python",
   "pygments_lexer": "ipython3",
   "version": "3.7.7"
  }
 },
 "nbformat": 4,
 "nbformat_minor": 2
}
