{
 "cells": [
  {
   "cell_type": "markdown",
   "metadata": {},
   "source": [
    "You are given an integer array nums and an integer target.\n",
    "\n",
    "You want to build an expression out of nums by adding one of the symbols '+' and '-' before each integer in nums and then concatenate all the integers.\n",
    "\n",
    "- https://www.youtube.com/watch?v=hqGa65Rp5LQ"
   ]
  },
  {
   "cell_type": "code",
   "execution_count": null,
   "metadata": {},
   "outputs": [],
   "source": [
    "'''\n",
    "s1: all positive numbers\n",
    "s2: all negative numbers\n",
    "\n",
    "s1 - s2 = target     ---(1)\n",
    "s1 + s2 = sum(nums)  ---(2)\n",
    "\n",
    "(1) + (2)\n",
    "s1 = (target + sum) / 2\n",
    "\n",
    "'''"
   ]
  },
  {
   "cell_type": "code",
   "execution_count": 39,
   "metadata": {},
   "outputs": [],
   "source": [
    "def findTargetSumWays(nums, target):\n",
    "\n",
    "    if abs(target) > sum(nums):\n",
    "        print('No feasible solution')\n",
    "\n",
    "    else:\n",
    "        if (sum(nums) + target) % 2 != 0:\n",
    "            print('No feasible solution')\n",
    "\n",
    "        else:\n",
    "            s1 = int((sum(nums) + target) / 2)\n",
    "\n",
    "            dp = [[0] * (s1 + 1) for i in range(len(nums) + 1)]\n",
    "\n",
    "            for i in range(len(nums) + 1):\n",
    "                dp[i][0] = 1\n",
    "\n",
    "            for i in range(1, len(nums) + 1):\n",
    "                for j in range(1, s1 + 1):\n",
    "                    if nums[i-1] > j:\n",
    "                        dp[i][j] = dp[i-1][j]\n",
    "                    else:\n",
    "                        dp[i][j] = dp[i-1][j] + dp[i-1][j-nums[i-1]]\n",
    "\n",
    "            if dp[i][j] > 0:\n",
    "                print('{} solutions found'.format(dp[i][j]))\n",
    "            else:\n",
    "                print('No feasible solution')"
   ]
  },
  {
   "cell_type": "code",
   "execution_count": 40,
   "metadata": {},
   "outputs": [
    {
     "name": "stdout",
     "output_type": "stream",
     "text": [
      "5 solutions found\n"
     ]
    }
   ],
   "source": [
    "nums = [1,1,1,1,1]\n",
    "target = 3\n",
    "\n",
    "findTargetSumWays(nums, target)"
   ]
  },
  {
   "cell_type": "code",
   "execution_count": 41,
   "metadata": {},
   "outputs": [
    {
     "name": "stdout",
     "output_type": "stream",
     "text": [
      "1 solutions found\n"
     ]
    }
   ],
   "source": [
    "nums = [1]\n",
    "target = 1\n",
    "\n",
    "findTargetSumWays(nums, target)"
   ]
  },
  {
   "cell_type": "code",
   "execution_count": null,
   "metadata": {},
   "outputs": [],
   "source": []
  }
 ],
 "metadata": {
  "kernelspec": {
   "display_name": "Python 3",
   "language": "python",
   "name": "python3"
  },
  "language_info": {
   "codemirror_mode": {
    "name": "ipython",
    "version": 3
   },
   "file_extension": ".py",
   "mimetype": "text/x-python",
   "name": "python",
   "nbconvert_exporter": "python",
   "pygments_lexer": "ipython3",
   "version": "3.7.7"
  }
 },
 "nbformat": 4,
 "nbformat_minor": 2
}
