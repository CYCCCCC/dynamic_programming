{
 "cells": [
  {
   "cell_type": "markdown",
   "metadata": {},
   "source": [
    "Given a set of non-negative integers and a value sum, the task is to check if there is a subset of the given set whose sum is equal to the given sum. \n",
    "- https://www.youtube.com/watch?v=KBEFyzpUUEw"
   ]
  },
  {
   "cell_type": "code",
   "execution_count": 1,
   "metadata": {},
   "outputs": [],
   "source": [
    "def subset_sum(num_list, num_sum):\n",
    "\n",
    "    # initialize dp table\n",
    "    dp = [[0]*(num_sum+1) for i in range(len(num_list)+1)]\n",
    "    \n",
    "    # set for the first column\n",
    "    for i in range(len(num_list) + 1):\n",
    "        dp[i][0] = 1\n",
    "    \n",
    "    # each cell\n",
    "    for i in range(1, len(num_list) + 1):\n",
    "        for j in range(1, num_sum + 1):\n",
    "            if num_list[i-1] > j:\n",
    "                dp[i][j] = dp[i-1][j]\n",
    "            else:\n",
    "                # not include the item \n",
    "                if dp[i-1][j]:\n",
    "                    dp[i][j] = dp[i-1][j]\n",
    "                # include the item i\n",
    "                else:\n",
    "                    dp[i][j] = dp[i-1][j-num_list[i-1]]\n",
    "\n",
    "    # result\n",
    "    if dp[i][j]:\n",
    "        print('The problem is feasible')\n",
    "    else:\n",
    "        print('The problem is not feasible')\n",
    "\n",
    "    # print the subset\n",
    "    subset = []\n",
    "\n",
    "    while i > 0 or j > 0:\n",
    "        if dp[i][j] == dp[i-1][j]:\n",
    "            i -= 1\n",
    "        else:\n",
    "            subset.append(num_list[i-1])\n",
    "            j = j - num_list[i-1]\n",
    "            i -= 1\n",
    "    \n",
    "    print('The subset is {}'.format(subset))"
   ]
  },
  {
   "cell_type": "code",
   "execution_count": 2,
   "metadata": {},
   "outputs": [
    {
     "name": "stdout",
     "output_type": "stream",
     "text": [
      "The problem is feasible\n",
      "The subset is [5, 4]\n"
     ]
    }
   ],
   "source": [
    "num_list = [3, 34, 4, 12, 5, 2]\n",
    "num_sum = 9\n",
    "\n",
    "subset_sum(num_list, num_sum)"
   ]
  },
  {
   "cell_type": "code",
   "execution_count": null,
   "metadata": {},
   "outputs": [],
   "source": []
  }
 ],
 "metadata": {
  "kernelspec": {
   "display_name": "Python 3",
   "language": "python",
   "name": "python3"
  },
  "language_info": {
   "codemirror_mode": {
    "name": "ipython",
    "version": 3
   },
   "file_extension": ".py",
   "mimetype": "text/x-python",
   "name": "python",
   "nbconvert_exporter": "python",
   "pygments_lexer": "ipython3",
   "version": "3.7.7"
  }
 },
 "nbformat": 4,
 "nbformat_minor": 2
}
